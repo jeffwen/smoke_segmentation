{
 "cells": [
  {
   "cell_type": "code",
   "execution_count": 44,
   "metadata": {},
   "outputs": [
    {
     "name": "stdout",
     "output_type": "stream",
     "text": [
      "/Users/jwen/Stanford/projects/smoke_segmentation\n"
     ]
    }
   ],
   "source": [
    "cd .."
   ]
  },
  {
   "cell_type": "code",
   "execution_count": 45,
   "metadata": {},
   "outputs": [
    {
     "name": "stdout",
     "output_type": "stream",
     "text": [
      "/Users/jwen/Stanford/projects/smoke_segmentation/src\n"
     ]
    }
   ],
   "source": [
    "cd src"
   ]
  },
  {
   "cell_type": "code",
   "execution_count": 46,
   "metadata": {},
   "outputs": [],
   "source": [
    "import netCDF4\n",
    "import numpy as np\n",
    "import json\n",
    "import time\n",
    "import xarray as xr\n",
    "import pandas as pd\n",
    "import matplotlib.pyplot as plt\n",
    "import requests\n",
    "import boto3\n",
    "import os\n",
    "\n",
    "import geopandas as gpd\n",
    "from datetime import datetime, timezone\n",
    "from tqdm.notebook import tqdm\n",
    "from shapely.geometry import Point, Polygon, box\n",
    "\n",
    "from utils import data_prep as dp\n",
    "from utils import data_downloader as dd\n",
    "from utils import data_vis as dv\n",
    "from utils import helpers as h\n",
    "\n",
    "%matplotlib inline"
   ]
  },
  {
   "cell_type": "code",
   "execution_count": 47,
   "metadata": {},
   "outputs": [
    {
     "name": "stdout",
     "output_type": "stream",
     "text": [
      "The autoreload extension is already loaded. To reload it, use:\n",
      "  %reload_ext autoreload\n"
     ]
    }
   ],
   "source": [
    "%load_ext autoreload\n",
    "%autoreload 2"
   ]
  },
  {
   "cell_type": "code",
   "execution_count": 48,
   "metadata": {},
   "outputs": [],
   "source": [
    "# define file paths\n",
    "DATA_FILE_PATH = '../data/'\n",
    "NETCDF_FILE_PATH = DATA_FILE_PATH + 'netcdf/'\n",
    "TEMP_NETCDF_FILE_PATH = DATA_FILE_PATH + 'temp_netcdf/'"
   ]
  },
  {
   "cell_type": "markdown",
   "metadata": {},
   "source": [
    "# Process Smoke Plumes "
   ]
  },
  {
   "cell_type": "markdown",
   "metadata": {},
   "source": [
    "## Reading Smoke Plume Data and State Shapes"
   ]
  },
  {
   "cell_type": "code",
   "execution_count": 121,
   "metadata": {},
   "outputs": [],
   "source": [
    "# read in the smoke plume data\n",
    "result = h.get_plume_df(DATA_FILE_PATH + 'raw_smoke_plumes/')"
   ]
  },
  {
   "cell_type": "code",
   "execution_count": 50,
   "metadata": {},
   "outputs": [],
   "source": [
    "# format plumes by creating intermediate features\n",
    "result = dp.format_plume_data(result)"
   ]
  },
  {
   "cell_type": "code",
   "execution_count": 51,
   "metadata": {},
   "outputs": [
    {
     "data": {
      "text/html": [
       "<div>\n",
       "<style scoped>\n",
       "    .dataframe tbody tr th:only-of-type {\n",
       "        vertical-align: middle;\n",
       "    }\n",
       "\n",
       "    .dataframe tbody tr th {\n",
       "        vertical-align: top;\n",
       "    }\n",
       "\n",
       "    .dataframe thead th {\n",
       "        text-align: right;\n",
       "    }\n",
       "</style>\n",
       "<table border=\"1\" class=\"dataframe\">\n",
       "  <thead>\n",
       "    <tr style=\"text-align: right;\">\n",
       "      <th></th>\n",
       "      <th>Density</th>\n",
       "      <th>End</th>\n",
       "      <th>Satellite</th>\n",
       "      <th>Start</th>\n",
       "      <th>geometry</th>\n",
       "      <th>year</th>\n",
       "      <th>month</th>\n",
       "      <th>day</th>\n",
       "      <th>start_doy</th>\n",
       "      <th>end_doy</th>\n",
       "      <th>start_time</th>\n",
       "      <th>end_time</th>\n",
       "      <th>view</th>\n",
       "      <th>doy</th>\n",
       "      <th>time</th>\n",
       "      <th>conus_time</th>\n",
       "    </tr>\n",
       "  </thead>\n",
       "  <tbody>\n",
       "    <tr>\n",
       "      <th>104904</th>\n",
       "      <td>5.0</td>\n",
       "      <td>2022366 2350</td>\n",
       "      <td>GOES-EAST</td>\n",
       "      <td>2021001 0000</td>\n",
       "      <td>POLYGON ((-114.45378 31.81011, -114.55632 31.7...</td>\n",
       "      <td>2021</td>\n",
       "      <td>01</td>\n",
       "      <td>01</td>\n",
       "      <td>001</td>\n",
       "      <td>001</td>\n",
       "      <td>0000</td>\n",
       "      <td>2350</td>\n",
       "      <td>F</td>\n",
       "      <td>001</td>\n",
       "      <td>2350</td>\n",
       "      <td>2351</td>\n",
       "    </tr>\n",
       "    <tr>\n",
       "      <th>104905</th>\n",
       "      <td>5.0</td>\n",
       "      <td>2022366 2350</td>\n",
       "      <td>GOES-EAST</td>\n",
       "      <td>2021001 0000</td>\n",
       "      <td>POLYGON ((-114.77360 32.97710, -114.92009 32.9...</td>\n",
       "      <td>2021</td>\n",
       "      <td>01</td>\n",
       "      <td>01</td>\n",
       "      <td>001</td>\n",
       "      <td>001</td>\n",
       "      <td>0000</td>\n",
       "      <td>2350</td>\n",
       "      <td>F</td>\n",
       "      <td>001</td>\n",
       "      <td>2350</td>\n",
       "      <td>2351</td>\n",
       "    </tr>\n",
       "    <tr>\n",
       "      <th>104906</th>\n",
       "      <td>16.0</td>\n",
       "      <td>2022366 2100</td>\n",
       "      <td>GOES-EAST</td>\n",
       "      <td>2022366 1800</td>\n",
       "      <td>POLYGON ((-98.65591 19.11097, -98.61574 19.110...</td>\n",
       "      <td>2023</td>\n",
       "      <td>01</td>\n",
       "      <td>01</td>\n",
       "      <td>001</td>\n",
       "      <td>001</td>\n",
       "      <td>1800</td>\n",
       "      <td>2100</td>\n",
       "      <td>F</td>\n",
       "      <td>001</td>\n",
       "      <td>2100</td>\n",
       "      <td>2101</td>\n",
       "    </tr>\n",
       "    <tr>\n",
       "      <th>104907</th>\n",
       "      <td>16.0</td>\n",
       "      <td>2022366 2100</td>\n",
       "      <td>GOES-EAST</td>\n",
       "      <td>2022366 1800</td>\n",
       "      <td>POLYGON ((-114.95725 32.66393, -114.87208 32.6...</td>\n",
       "      <td>2023</td>\n",
       "      <td>01</td>\n",
       "      <td>01</td>\n",
       "      <td>001</td>\n",
       "      <td>001</td>\n",
       "      <td>1800</td>\n",
       "      <td>2100</td>\n",
       "      <td>F</td>\n",
       "      <td>001</td>\n",
       "      <td>2100</td>\n",
       "      <td>2101</td>\n",
       "    </tr>\n",
       "    <tr>\n",
       "      <th>104908</th>\n",
       "      <td>16.0</td>\n",
       "      <td>2022366 2350</td>\n",
       "      <td>GOES-EAST</td>\n",
       "      <td>2021001 0000</td>\n",
       "      <td>POLYGON ((-103.24236 20.45962, -103.21490 20.4...</td>\n",
       "      <td>2021</td>\n",
       "      <td>01</td>\n",
       "      <td>01</td>\n",
       "      <td>001</td>\n",
       "      <td>001</td>\n",
       "      <td>0000</td>\n",
       "      <td>2350</td>\n",
       "      <td>F</td>\n",
       "      <td>001</td>\n",
       "      <td>2350</td>\n",
       "      <td>2351</td>\n",
       "    </tr>\n",
       "  </tbody>\n",
       "</table>\n",
       "</div>"
      ],
      "text/plain": [
       "        Density           End  Satellite         Start  \\\n",
       "104904      5.0  2022366 2350  GOES-EAST  2021001 0000   \n",
       "104905      5.0  2022366 2350  GOES-EAST  2021001 0000   \n",
       "104906     16.0  2022366 2100  GOES-EAST  2022366 1800   \n",
       "104907     16.0  2022366 2100  GOES-EAST  2022366 1800   \n",
       "104908     16.0  2022366 2350  GOES-EAST  2021001 0000   \n",
       "\n",
       "                                                 geometry  year month day  \\\n",
       "104904  POLYGON ((-114.45378 31.81011, -114.55632 31.7...  2021    01  01   \n",
       "104905  POLYGON ((-114.77360 32.97710, -114.92009 32.9...  2021    01  01   \n",
       "104906  POLYGON ((-98.65591 19.11097, -98.61574 19.110...  2023    01  01   \n",
       "104907  POLYGON ((-114.95725 32.66393, -114.87208 32.6...  2023    01  01   \n",
       "104908  POLYGON ((-103.24236 20.45962, -103.21490 20.4...  2021    01  01   \n",
       "\n",
       "       start_doy end_doy start_time end_time view  doy  time conus_time  \n",
       "104904       001     001       0000     2350    F  001  2350       2351  \n",
       "104905       001     001       0000     2350    F  001  2350       2351  \n",
       "104906       001     001       1800     2100    F  001  2100       2101  \n",
       "104907       001     001       1800     2100    F  001  2100       2101  \n",
       "104908       001     001       0000     2350    F  001  2350       2351  "
      ]
     },
     "execution_count": 51,
     "metadata": {},
     "output_type": "execute_result"
    }
   ],
   "source": [
    "#result.to_file(DATA_FILE_PATH + \"smoke_plumes/all_us_plumes_2018-2020.geojson\", driver='GeoJSON')\n",
    "result.tail()"
   ]
  },
  {
   "cell_type": "code",
   "execution_count": 52,
   "metadata": {},
   "outputs": [],
   "source": [
    "## filter out empty plumes\n",
    "plumes_df = result\n",
    "plumes_df = plumes_df[~plumes_df.is_empty]\n",
    "\n",
    "## filter out plumes where year is in the future... (2020-12-31 has weird data prob cause of 366 days)\n",
    "plumes_df = plumes_df[plumes_df['year'].isin(['2018','2019','2020'])]"
   ]
  },
  {
   "cell_type": "code",
   "execution_count": 53,
   "metadata": {},
   "outputs": [
    {
     "data": {
      "text/plain": [
       "'Dropped 42 plume observations'"
      ]
     },
     "execution_count": 53,
     "metadata": {},
     "output_type": "execute_result"
    }
   ],
   "source": [
    "## check if any dropped\n",
    "f\"Dropped {result.shape[0] - plumes_df.shape[0]} plume observations\" if plumes_df.shape != result.shape else \"No plumes dropped!\""
   ]
  },
  {
   "cell_type": "code",
   "execution_count": 54,
   "metadata": {},
   "outputs": [
    {
     "name": "stdout",
     "output_type": "stream",
     "text": [
      "Number of plumes 93923\n"
     ]
    },
    {
     "data": {
      "text/html": [
       "<div>\n",
       "<style scoped>\n",
       "    .dataframe tbody tr th:only-of-type {\n",
       "        vertical-align: middle;\n",
       "    }\n",
       "\n",
       "    .dataframe tbody tr th {\n",
       "        vertical-align: top;\n",
       "    }\n",
       "\n",
       "    .dataframe thead th {\n",
       "        text-align: right;\n",
       "    }\n",
       "</style>\n",
       "<table border=\"1\" class=\"dataframe\">\n",
       "  <thead>\n",
       "    <tr style=\"text-align: right;\">\n",
       "      <th></th>\n",
       "      <th>Density</th>\n",
       "      <th>End</th>\n",
       "      <th>Satellite</th>\n",
       "      <th>Start</th>\n",
       "      <th>geometry</th>\n",
       "      <th>year</th>\n",
       "      <th>month</th>\n",
       "      <th>day</th>\n",
       "      <th>start_doy</th>\n",
       "      <th>end_doy</th>\n",
       "      <th>start_time</th>\n",
       "      <th>end_time</th>\n",
       "      <th>view</th>\n",
       "      <th>doy</th>\n",
       "      <th>time</th>\n",
       "      <th>conus_time</th>\n",
       "    </tr>\n",
       "  </thead>\n",
       "  <tbody>\n",
       "    <tr>\n",
       "      <th>0</th>\n",
       "      <td>5.0</td>\n",
       "      <td>2018001 2312</td>\n",
       "      <td>GOES-EAST</td>\n",
       "      <td>2018001 2002</td>\n",
       "      <td>POLYGON ((-93.79032 29.78233, -93.82389 29.535...</td>\n",
       "      <td>2018</td>\n",
       "      <td>01</td>\n",
       "      <td>01</td>\n",
       "      <td>001</td>\n",
       "      <td>001</td>\n",
       "      <td>2002</td>\n",
       "      <td>2312</td>\n",
       "      <td>C</td>\n",
       "      <td>001</td>\n",
       "      <td>2312</td>\n",
       "      <td>2312</td>\n",
       "    </tr>\n",
       "    <tr>\n",
       "      <th>1</th>\n",
       "      <td>5.0</td>\n",
       "      <td>2018001 2312</td>\n",
       "      <td>GOES-EAST</td>\n",
       "      <td>2018001 2002</td>\n",
       "      <td>POLYGON ((-95.67021 33.22471, -95.67936 33.133...</td>\n",
       "      <td>2018</td>\n",
       "      <td>01</td>\n",
       "      <td>01</td>\n",
       "      <td>001</td>\n",
       "      <td>001</td>\n",
       "      <td>2002</td>\n",
       "      <td>2312</td>\n",
       "      <td>C</td>\n",
       "      <td>001</td>\n",
       "      <td>2312</td>\n",
       "      <td>2312</td>\n",
       "    </tr>\n",
       "    <tr>\n",
       "      <th>2</th>\n",
       "      <td>5.0</td>\n",
       "      <td>2018001 2312</td>\n",
       "      <td>GOES-EAST</td>\n",
       "      <td>2018001 2002</td>\n",
       "      <td>POLYGON ((-97.42329 34.79477, -97.50874 34.731...</td>\n",
       "      <td>2018</td>\n",
       "      <td>01</td>\n",
       "      <td>01</td>\n",
       "      <td>001</td>\n",
       "      <td>001</td>\n",
       "      <td>2002</td>\n",
       "      <td>2312</td>\n",
       "      <td>C</td>\n",
       "      <td>001</td>\n",
       "      <td>2312</td>\n",
       "      <td>2312</td>\n",
       "    </tr>\n",
       "    <tr>\n",
       "      <th>3</th>\n",
       "      <td>5.0</td>\n",
       "      <td>2018001 2312</td>\n",
       "      <td>GOES-EAST</td>\n",
       "      <td>2018001 2002</td>\n",
       "      <td>POLYGON ((-94.65153 37.89886, -94.63322 37.840...</td>\n",
       "      <td>2018</td>\n",
       "      <td>01</td>\n",
       "      <td>01</td>\n",
       "      <td>001</td>\n",
       "      <td>001</td>\n",
       "      <td>2002</td>\n",
       "      <td>2312</td>\n",
       "      <td>C</td>\n",
       "      <td>001</td>\n",
       "      <td>2312</td>\n",
       "      <td>2312</td>\n",
       "    </tr>\n",
       "    <tr>\n",
       "      <th>4</th>\n",
       "      <td>5.0</td>\n",
       "      <td>2018001 2312</td>\n",
       "      <td>GOES-EAST</td>\n",
       "      <td>2018001 2002</td>\n",
       "      <td>POLYGON ((-94.76261 37.20454, -94.80412 37.138...</td>\n",
       "      <td>2018</td>\n",
       "      <td>01</td>\n",
       "      <td>01</td>\n",
       "      <td>001</td>\n",
       "      <td>001</td>\n",
       "      <td>2002</td>\n",
       "      <td>2312</td>\n",
       "      <td>C</td>\n",
       "      <td>001</td>\n",
       "      <td>2312</td>\n",
       "      <td>2312</td>\n",
       "    </tr>\n",
       "  </tbody>\n",
       "</table>\n",
       "</div>"
      ],
      "text/plain": [
       "   Density           End  Satellite         Start  \\\n",
       "0      5.0  2018001 2312  GOES-EAST  2018001 2002   \n",
       "1      5.0  2018001 2312  GOES-EAST  2018001 2002   \n",
       "2      5.0  2018001 2312  GOES-EAST  2018001 2002   \n",
       "3      5.0  2018001 2312  GOES-EAST  2018001 2002   \n",
       "4      5.0  2018001 2312  GOES-EAST  2018001 2002   \n",
       "\n",
       "                                            geometry  year month day  \\\n",
       "0  POLYGON ((-93.79032 29.78233, -93.82389 29.535...  2018    01  01   \n",
       "1  POLYGON ((-95.67021 33.22471, -95.67936 33.133...  2018    01  01   \n",
       "2  POLYGON ((-97.42329 34.79477, -97.50874 34.731...  2018    01  01   \n",
       "3  POLYGON ((-94.65153 37.89886, -94.63322 37.840...  2018    01  01   \n",
       "4  POLYGON ((-94.76261 37.20454, -94.80412 37.138...  2018    01  01   \n",
       "\n",
       "  start_doy end_doy start_time end_time view  doy  time conus_time  \n",
       "0       001     001       2002     2312    C  001  2312       2312  \n",
       "1       001     001       2002     2312    C  001  2312       2312  \n",
       "2       001     001       2002     2312    C  001  2312       2312  \n",
       "3       001     001       2002     2312    C  001  2312       2312  \n",
       "4       001     001       2002     2312    C  001  2312       2312  "
      ]
     },
     "execution_count": 54,
     "metadata": {},
     "output_type": "execute_result"
    }
   ],
   "source": [
    "# only keep GOES east since satellite data is from goes east\n",
    "plumes_df = plumes_df[plumes_df['Satellite'] == 'GOES-EAST'].reset_index(drop=True)\n",
    "print(f\"Number of plumes {plumes_df.shape[0]}\")\n",
    "plumes_df.head()"
   ]
  },
  {
   "cell_type": "markdown",
   "metadata": {},
   "source": [
    "## Get test dataset\n",
    "* just for 2019 and 2020??"
   ]
  },
  {
   "cell_type": "code",
   "execution_count": 32,
   "metadata": {},
   "outputs": [
    {
     "name": "stdout",
     "output_type": "stream",
     "text": [
      "US plumes: 2121\n",
      "CA NV plumes: 493\n"
     ]
    }
   ],
   "source": [
    "## temp plume data\n",
    "temp_plumes_df = plumes_df[(plumes_df['year'].isin(['2019', '2020']))]\n",
    "\n",
    "## may-dec\n",
    "# temp_plumes_df = plumes_df[(plumes_df['year'].isin(['2019', '2020'])) & \\\n",
    "#                            (plumes_df['conus_time'].str.slice(0,2)>='12') & (plumes_df['conus_time'].str.slice(0,2)<='23') & \\\n",
    "#                            (plumes_df['month'] > '04')]\n",
    "\n",
    "states_list = ['California', 'Nevada']\n",
    "temp_plumes_df_ca_nv = h.filter_state_plumes(temp_plumes_df, states_list)\n",
    "\n",
    "## check how many unique year, doy, and conus_time steps there are (figure out how many images there will need to be)\n",
    "test = temp_plumes_df['year'] + '_' + temp_plumes_df['doy'] + '_' + temp_plumes_df['conus_time']\n",
    "print(f'US plumes: {len(set(test.to_numpy()))}')\n",
    "\n",
    "## check how many unique year, doy, and conus_time steps there are (figure out how many images there will need to be)\n",
    "test = temp_plumes_df_ca_nv['year'] + '_' + temp_plumes_df_ca_nv['doy'] + '_' + temp_plumes_df_ca_nv['conus_time']\n",
    "print(f'CA NV plumes: {len(set(test.to_numpy()))}')"
   ]
  },
  {
   "cell_type": "markdown",
   "metadata": {},
   "source": [
    "* create dataframe with the right columns for downloading images (dont actually need to use plumes)"
   ]
  },
  {
   "cell_type": "code",
   "execution_count": 118,
   "metadata": {},
   "outputs": [],
   "source": [
    "## create date range\n",
    "time_df = pd.DataFrame({'date':pd.date_range(start='5/1/2019', end='10/31/2020', freq='D')})\n",
    "\n",
    "## get necessary variables for downloading goes\n",
    "time_df['year'] = pd.to_datetime(time_df['date']).dt.year.astype(str)\n",
    "time_df['month'] = pd.to_datetime(time_df['date']).dt.month.astype(str).str.zfill(2)\n",
    "time_df['day'] = pd.to_datetime(time_df['date']).dt.day.astype(str).str.zfill(2)\n",
    "time_df['doy'] = pd.to_datetime(time_df['date']).dt.dayofyear.astype(str).str.zfill(3)\n",
    "time_df['view'] = 'C'\n",
    "\n",
    "## filter to may-oct (for compute reasons....)\n",
    "time_df = time_df[(time_df.month > '04') & (time_df.month < '11')]\n",
    "time_df = time_df.apply(lambda row: row.repeat(3), axis=0).reset_index(drop=True)\n",
    "\n",
    "## add in the hour and min\n",
    "time_df['conus_time'] = pd.Series(np.tile(['1601', '1901', '2201'], len(time_df)//3)).astype(str)"
   ]
  },
  {
   "cell_type": "code",
   "execution_count": 119,
   "metadata": {},
   "outputs": [],
   "source": [
    "time_df.to_csv(DATA_FILE_PATH + \"smoke_plumes/ca-nv_test_2019-2020.csv\")"
   ]
  },
  {
   "cell_type": "code",
   "execution_count": 120,
   "metadata": {},
   "outputs": [
    {
     "data": {
      "text/html": [
       "<div>\n",
       "<style scoped>\n",
       "    .dataframe tbody tr th:only-of-type {\n",
       "        vertical-align: middle;\n",
       "    }\n",
       "\n",
       "    .dataframe tbody tr th {\n",
       "        vertical-align: top;\n",
       "    }\n",
       "\n",
       "    .dataframe thead th {\n",
       "        text-align: right;\n",
       "    }\n",
       "</style>\n",
       "<table border=\"1\" class=\"dataframe\">\n",
       "  <thead>\n",
       "    <tr style=\"text-align: right;\">\n",
       "      <th></th>\n",
       "      <th>date</th>\n",
       "      <th>year</th>\n",
       "      <th>month</th>\n",
       "      <th>day</th>\n",
       "      <th>doy</th>\n",
       "      <th>view</th>\n",
       "      <th>conus_time</th>\n",
       "    </tr>\n",
       "  </thead>\n",
       "  <tbody>\n",
       "    <tr>\n",
       "      <th>0</th>\n",
       "      <td>2019-05-01</td>\n",
       "      <td>2019</td>\n",
       "      <td>05</td>\n",
       "      <td>01</td>\n",
       "      <td>121</td>\n",
       "      <td>C</td>\n",
       "      <td>1601</td>\n",
       "    </tr>\n",
       "    <tr>\n",
       "      <th>1</th>\n",
       "      <td>2019-05-01</td>\n",
       "      <td>2019</td>\n",
       "      <td>05</td>\n",
       "      <td>01</td>\n",
       "      <td>121</td>\n",
       "      <td>C</td>\n",
       "      <td>1901</td>\n",
       "    </tr>\n",
       "    <tr>\n",
       "      <th>2</th>\n",
       "      <td>2019-05-01</td>\n",
       "      <td>2019</td>\n",
       "      <td>05</td>\n",
       "      <td>01</td>\n",
       "      <td>121</td>\n",
       "      <td>C</td>\n",
       "      <td>2201</td>\n",
       "    </tr>\n",
       "    <tr>\n",
       "      <th>3</th>\n",
       "      <td>2019-05-02</td>\n",
       "      <td>2019</td>\n",
       "      <td>05</td>\n",
       "      <td>02</td>\n",
       "      <td>122</td>\n",
       "      <td>C</td>\n",
       "      <td>1601</td>\n",
       "    </tr>\n",
       "    <tr>\n",
       "      <th>4</th>\n",
       "      <td>2019-05-02</td>\n",
       "      <td>2019</td>\n",
       "      <td>05</td>\n",
       "      <td>02</td>\n",
       "      <td>122</td>\n",
       "      <td>C</td>\n",
       "      <td>1901</td>\n",
       "    </tr>\n",
       "    <tr>\n",
       "      <th>...</th>\n",
       "      <td>...</td>\n",
       "      <td>...</td>\n",
       "      <td>...</td>\n",
       "      <td>...</td>\n",
       "      <td>...</td>\n",
       "      <td>...</td>\n",
       "      <td>...</td>\n",
       "    </tr>\n",
       "    <tr>\n",
       "      <th>1099</th>\n",
       "      <td>2020-10-30</td>\n",
       "      <td>2020</td>\n",
       "      <td>10</td>\n",
       "      <td>30</td>\n",
       "      <td>304</td>\n",
       "      <td>C</td>\n",
       "      <td>1901</td>\n",
       "    </tr>\n",
       "    <tr>\n",
       "      <th>1100</th>\n",
       "      <td>2020-10-30</td>\n",
       "      <td>2020</td>\n",
       "      <td>10</td>\n",
       "      <td>30</td>\n",
       "      <td>304</td>\n",
       "      <td>C</td>\n",
       "      <td>2201</td>\n",
       "    </tr>\n",
       "    <tr>\n",
       "      <th>1101</th>\n",
       "      <td>2020-10-31</td>\n",
       "      <td>2020</td>\n",
       "      <td>10</td>\n",
       "      <td>31</td>\n",
       "      <td>305</td>\n",
       "      <td>C</td>\n",
       "      <td>1601</td>\n",
       "    </tr>\n",
       "    <tr>\n",
       "      <th>1102</th>\n",
       "      <td>2020-10-31</td>\n",
       "      <td>2020</td>\n",
       "      <td>10</td>\n",
       "      <td>31</td>\n",
       "      <td>305</td>\n",
       "      <td>C</td>\n",
       "      <td>1901</td>\n",
       "    </tr>\n",
       "    <tr>\n",
       "      <th>1103</th>\n",
       "      <td>2020-10-31</td>\n",
       "      <td>2020</td>\n",
       "      <td>10</td>\n",
       "      <td>31</td>\n",
       "      <td>305</td>\n",
       "      <td>C</td>\n",
       "      <td>2201</td>\n",
       "    </tr>\n",
       "  </tbody>\n",
       "</table>\n",
       "<p>1104 rows × 7 columns</p>\n",
       "</div>"
      ],
      "text/plain": [
       "           date  year month day  doy view conus_time\n",
       "0    2019-05-01  2019    05  01  121    C       1601\n",
       "1    2019-05-01  2019    05  01  121    C       1901\n",
       "2    2019-05-01  2019    05  01  121    C       2201\n",
       "3    2019-05-02  2019    05  02  122    C       1601\n",
       "4    2019-05-02  2019    05  02  122    C       1901\n",
       "...         ...   ...   ...  ..  ...  ...        ...\n",
       "1099 2020-10-30  2020    10  30  304    C       1901\n",
       "1100 2020-10-30  2020    10  30  304    C       2201\n",
       "1101 2020-10-31  2020    10  31  305    C       1601\n",
       "1102 2020-10-31  2020    10  31  305    C       1901\n",
       "1103 2020-10-31  2020    10  31  305    C       2201\n",
       "\n",
       "[1104 rows x 7 columns]"
      ]
     },
     "execution_count": 120,
     "metadata": {},
     "output_type": "execute_result"
    }
   ],
   "source": [
    "time_df"
   ]
  },
  {
   "cell_type": "code",
   "execution_count": 33,
   "metadata": {},
   "outputs": [],
   "source": [
    "# save plumes data\n",
    "temp_plumes_df_ca_nv.to_file(DATA_FILE_PATH + \"smoke_plumes/ca-nv_plumes_2019-2020.geojson\", driver='GeoJSON')"
   ]
  },
  {
   "cell_type": "markdown",
   "metadata": {},
   "source": [
    "## Filter out smoke that covers large area...\n",
    "* The segmentation mask will not work well if the smoke polygon covers the whole of US...\n",
    "* Current heuristic....\n",
    "    * Calculate Z-Score, filter out greater than 3SD of fire area & density == 5.0"
   ]
  },
  {
   "cell_type": "code",
   "execution_count": 172,
   "metadata": {},
   "outputs": [],
   "source": [
    "from scipy import stats\n",
    "\n",
    "## calculate area of smoke plume and the z_score/ density z_score\n",
    "plumes_df['area'] = plumes_df['geometry'].apply(lambda x: x.area)\n",
    "plumes_df['area_zscore'] = stats.zscore(plumes_df['area'])\n",
    "plumes_df['density_area_zscore'] = plumes_df.groupby(['Density'])['area'].transform(stats.zscore)\n",
    "\n",
    "## remove plumes with area greater than 3 SD & density == 5.0 or 3.5 SD & density == 16.0\n",
    "plumes_df = plumes_df[~(((plumes_df['density_area_zscore']>3.0) & (plumes_df['Density']==5.0)) |\n",
    "                        ((plumes_df['density_area_zscore']>3.5) & (plumes_df['Density']==16.0)))]"
   ]
  },
  {
   "cell_type": "code",
   "execution_count": 173,
   "metadata": {},
   "outputs": [
    {
     "data": {
      "text/plain": [
       "(93496, 19)"
      ]
     },
     "execution_count": 173,
     "metadata": {},
     "output_type": "execute_result"
    }
   ],
   "source": [
    "plumes_df.shape"
   ]
  },
  {
   "cell_type": "code",
   "execution_count": 174,
   "metadata": {},
   "outputs": [],
   "source": [
    "# save plumes data\n",
    "plumes_df.to_file(DATA_FILE_PATH + \"smoke_plumes/us_plumes_2018-2020.geojson\", driver='GeoJSON')"
   ]
  },
  {
   "cell_type": "code",
   "execution_count": 9,
   "metadata": {},
   "outputs": [
    {
     "data": {
      "text/plain": [
       "1346"
      ]
     },
     "execution_count": 9,
     "metadata": {},
     "output_type": "execute_result"
    }
   ],
   "source": [
    "## temp plume data\n",
    "temp_plumes_df = plumes_df[(plumes_df['year']=='2018') & (plumes_df['conus_time'].str.slice(0,2)>='12') & (plumes_df['conus_time'].str.slice(0,2)<='23') & (plumes_df['conus_time'].str.slice(2,4).isin(['02','01','31','32']))]\n",
    "\n",
    "## check how many unique year, doy, and conus_time steps there are (figure out how many images there will need to be)\n",
    "test = temp_plumes_df['year'] + '_' + temp_plumes_df['doy'] + '_' + temp_plumes_df['conus_time']\n",
    "len(set(test.to_numpy()))"
   ]
  },
  {
   "cell_type": "markdown",
   "metadata": {},
   "source": [
    "## Download AWS files and process with satpy\n",
    "* IMPORTANT:\n",
    "\n",
    "    * On April 2, 2019 GOES changed the schedules for when the images were captured from :02 minute every 5 min to :01 every 5 min"
   ]
  },
  {
   "cell_type": "code",
   "execution_count": 6,
   "metadata": {},
   "outputs": [],
   "source": [
    "## read in plume data\n",
    "plumes_df = gpd.read_file(DATA_FILE_PATH + \"smoke_plumes/us_plumes_2018-2020.geojson\")"
   ]
  },
  {
   "cell_type": "code",
   "execution_count": 7,
   "metadata": {},
   "outputs": [],
   "source": [
    "## temp plume data\n",
    "temp_plumes_df = plumes_df[(plumes_df['conus_time'].str.slice(0,2)>='12') & (plumes_df['conus_time'].str.slice(0,2)<='23') & (plumes_df['conus_time'].str.slice(2,4).isin(['02','01','31','32']))]"
   ]
  },
  {
   "cell_type": "code",
   "execution_count": 8,
   "metadata": {},
   "outputs": [
    {
     "data": {
      "text/html": [
       "<div>\n",
       "<style scoped>\n",
       "    .dataframe tbody tr th:only-of-type {\n",
       "        vertical-align: middle;\n",
       "    }\n",
       "\n",
       "    .dataframe tbody tr th {\n",
       "        vertical-align: top;\n",
       "    }\n",
       "\n",
       "    .dataframe thead th {\n",
       "        text-align: right;\n",
       "    }\n",
       "</style>\n",
       "<table border=\"1\" class=\"dataframe\">\n",
       "  <thead>\n",
       "    <tr style=\"text-align: right;\">\n",
       "      <th></th>\n",
       "      <th>Density</th>\n",
       "      <th>End</th>\n",
       "      <th>Satellite</th>\n",
       "      <th>Start</th>\n",
       "      <th>year</th>\n",
       "      <th>month</th>\n",
       "      <th>day</th>\n",
       "      <th>start_doy</th>\n",
       "      <th>end_doy</th>\n",
       "      <th>start_time</th>\n",
       "      <th>end_time</th>\n",
       "      <th>view</th>\n",
       "      <th>doy</th>\n",
       "      <th>time</th>\n",
       "      <th>conus_time</th>\n",
       "      <th>area</th>\n",
       "      <th>area_zscore</th>\n",
       "      <th>density_area_zscore</th>\n",
       "      <th>geometry</th>\n",
       "    </tr>\n",
       "  </thead>\n",
       "  <tbody>\n",
       "    <tr>\n",
       "      <th>38891</th>\n",
       "      <td>16.0</td>\n",
       "      <td>2018363 2300</td>\n",
       "      <td>GOES-EAST</td>\n",
       "      <td>2018363 2000</td>\n",
       "      <td>2018</td>\n",
       "      <td>12</td>\n",
       "      <td>29</td>\n",
       "      <td>363</td>\n",
       "      <td>363</td>\n",
       "      <td>2000</td>\n",
       "      <td>2300</td>\n",
       "      <td>F</td>\n",
       "      <td>363</td>\n",
       "      <td>2300</td>\n",
       "      <td>2302</td>\n",
       "      <td>0.008713</td>\n",
       "      <td>-0.070997</td>\n",
       "      <td>-0.115698</td>\n",
       "      <td>POLYGON ((-112.32848 29.65171, -112.25911 29.5...</td>\n",
       "    </tr>\n",
       "    <tr>\n",
       "      <th>38892</th>\n",
       "      <td>16.0</td>\n",
       "      <td>2018363 2300</td>\n",
       "      <td>GOES-EAST</td>\n",
       "      <td>2018363 2000</td>\n",
       "      <td>2018</td>\n",
       "      <td>12</td>\n",
       "      <td>29</td>\n",
       "      <td>363</td>\n",
       "      <td>363</td>\n",
       "      <td>2000</td>\n",
       "      <td>2300</td>\n",
       "      <td>F</td>\n",
       "      <td>363</td>\n",
       "      <td>2300</td>\n",
       "      <td>2302</td>\n",
       "      <td>0.004566</td>\n",
       "      <td>-0.071056</td>\n",
       "      <td>-0.115766</td>\n",
       "      <td>POLYGON ((-112.07106 30.70757, -112.05565 30.6...</td>\n",
       "    </tr>\n",
       "    <tr>\n",
       "      <th>38893</th>\n",
       "      <td>16.0</td>\n",
       "      <td>2018363 2300</td>\n",
       "      <td>GOES-EAST</td>\n",
       "      <td>2018363 2000</td>\n",
       "      <td>2018</td>\n",
       "      <td>12</td>\n",
       "      <td>29</td>\n",
       "      <td>363</td>\n",
       "      <td>363</td>\n",
       "      <td>2000</td>\n",
       "      <td>2300</td>\n",
       "      <td>F</td>\n",
       "      <td>363</td>\n",
       "      <td>2300</td>\n",
       "      <td>2302</td>\n",
       "      <td>0.003476</td>\n",
       "      <td>-0.071071</td>\n",
       "      <td>-0.115783</td>\n",
       "      <td>POLYGON ((-112.42559 30.73994, -112.40246 30.6...</td>\n",
       "    </tr>\n",
       "    <tr>\n",
       "      <th>38894</th>\n",
       "      <td>16.0</td>\n",
       "      <td>2018363 2300</td>\n",
       "      <td>GOES-EAST</td>\n",
       "      <td>2018363 2000</td>\n",
       "      <td>2018</td>\n",
       "      <td>12</td>\n",
       "      <td>29</td>\n",
       "      <td>363</td>\n",
       "      <td>363</td>\n",
       "      <td>2000</td>\n",
       "      <td>2300</td>\n",
       "      <td>F</td>\n",
       "      <td>363</td>\n",
       "      <td>2300</td>\n",
       "      <td>2302</td>\n",
       "      <td>0.000669</td>\n",
       "      <td>-0.071111</td>\n",
       "      <td>-0.115829</td>\n",
       "      <td>POLYGON ((-107.19574 28.38515, -107.19327 28.4...</td>\n",
       "    </tr>\n",
       "    <tr>\n",
       "      <th>38895</th>\n",
       "      <td>16.0</td>\n",
       "      <td>2018363 2300</td>\n",
       "      <td>GOES-EAST</td>\n",
       "      <td>2018363 2000</td>\n",
       "      <td>2018</td>\n",
       "      <td>12</td>\n",
       "      <td>29</td>\n",
       "      <td>363</td>\n",
       "      <td>363</td>\n",
       "      <td>2000</td>\n",
       "      <td>2300</td>\n",
       "      <td>F</td>\n",
       "      <td>363</td>\n",
       "      <td>2300</td>\n",
       "      <td>2302</td>\n",
       "      <td>0.012881</td>\n",
       "      <td>-0.070938</td>\n",
       "      <td>-0.115631</td>\n",
       "      <td>POLYGON ((-101.91955 20.34657, -101.88995 20.3...</td>\n",
       "    </tr>\n",
       "  </tbody>\n",
       "</table>\n",
       "</div>"
      ],
      "text/plain": [
       "       Density           End  Satellite         Start  year month day  \\\n",
       "38891     16.0  2018363 2300  GOES-EAST  2018363 2000  2018    12  29   \n",
       "38892     16.0  2018363 2300  GOES-EAST  2018363 2000  2018    12  29   \n",
       "38893     16.0  2018363 2300  GOES-EAST  2018363 2000  2018    12  29   \n",
       "38894     16.0  2018363 2300  GOES-EAST  2018363 2000  2018    12  29   \n",
       "38895     16.0  2018363 2300  GOES-EAST  2018363 2000  2018    12  29   \n",
       "\n",
       "      start_doy end_doy start_time end_time view  doy  time conus_time  \\\n",
       "38891       363     363       2000     2300    F  363  2300       2302   \n",
       "38892       363     363       2000     2300    F  363  2300       2302   \n",
       "38893       363     363       2000     2300    F  363  2300       2302   \n",
       "38894       363     363       2000     2300    F  363  2300       2302   \n",
       "38895       363     363       2000     2300    F  363  2300       2302   \n",
       "\n",
       "           area  area_zscore  density_area_zscore  \\\n",
       "38891  0.008713    -0.070997            -0.115698   \n",
       "38892  0.004566    -0.071056            -0.115766   \n",
       "38893  0.003476    -0.071071            -0.115783   \n",
       "38894  0.000669    -0.071111            -0.115829   \n",
       "38895  0.012881    -0.070938            -0.115631   \n",
       "\n",
       "                                                geometry  \n",
       "38891  POLYGON ((-112.32848 29.65171, -112.25911 29.5...  \n",
       "38892  POLYGON ((-112.07106 30.70757, -112.05565 30.6...  \n",
       "38893  POLYGON ((-112.42559 30.73994, -112.40246 30.6...  \n",
       "38894  POLYGON ((-107.19574 28.38515, -107.19327 28.4...  \n",
       "38895  POLYGON ((-101.91955 20.34657, -101.88995 20.3...  "
      ]
     },
     "execution_count": 8,
     "metadata": {},
     "output_type": "execute_result"
    }
   ],
   "source": [
    "temp_plumes_df.tail()"
   ]
  },
  {
   "cell_type": "code",
   "execution_count": 1,
   "metadata": {},
   "outputs": [
    {
     "ename": "NameError",
     "evalue": "name 'temp_plumes_df' is not defined",
     "output_type": "error",
     "traceback": [
      "\u001b[0;31m---------------------------------------------------------------------------\u001b[0m",
      "\u001b[0;31mNameError\u001b[0m                                 Traceback (most recent call last)",
      "\u001b[0;32m<ipython-input-1-df2c00a394a0>\u001b[0m in \u001b[0;36m<module>\u001b[0;34m\u001b[0m\n\u001b[1;32m      1\u001b[0m \u001b[0;32mimport\u001b[0m \u001b[0mdask\u001b[0m\u001b[0;34m.\u001b[0m\u001b[0mdataframe\u001b[0m \u001b[0;32mas\u001b[0m \u001b[0mddf\u001b[0m\u001b[0;34m\u001b[0m\u001b[0;34m\u001b[0m\u001b[0m\n\u001b[0;32m----> 2\u001b[0;31m \u001b[0mtemp_plumes_ddf\u001b[0m \u001b[0;34m=\u001b[0m \u001b[0mddf\u001b[0m\u001b[0;34m.\u001b[0m\u001b[0mfrom_pandas\u001b[0m\u001b[0;34m(\u001b[0m\u001b[0mtemp_plumes_df\u001b[0m\u001b[0;34m,\u001b[0m \u001b[0mnpartitions\u001b[0m\u001b[0;34m=\u001b[0m\u001b[0;36m2\u001b[0m\u001b[0;34m)\u001b[0m\u001b[0;34m\u001b[0m\u001b[0;34m\u001b[0m\u001b[0m\n\u001b[0m",
      "\u001b[0;31mNameError\u001b[0m: name 'temp_plumes_df' is not defined"
     ]
    }
   ],
   "source": [
    "import dask.dataframe as ddf\n",
    "temp_plumes_ddf = ddf.from_pandas(temp_plumes_df, npartitions=2)"
   ]
  },
  {
   "cell_type": "code",
   "execution_count": null,
   "metadata": {},
   "outputs": [],
   "source": [
    "import requests.exceptions as re\n",
    "import warnings\n",
    "warnings.simplefilter(\"ignore\", (UserWarning, FutureWarning, RuntimeWarning))\n",
    "\n",
    "start_time = time.time()\n",
    "\n",
    "while True:\n",
    "    try:\n",
    "        dd.goes_download_wrapper_satpy(smoke_plume_data=temp_plumes_df,\n",
    "                                       temp_data_path=TEMP_NETCDF_FILE_PATH,\n",
    "                                 save_data_path=NETCDF_FILE_PATH, \n",
    "                                 extra_desc='', \n",
    "                                 bounds=(-124.5, 24.4, -66.6, 49.3), \n",
    "                                 bands=[1,2,3,7,11])\n",
    "        break\n",
    "    except (re.SSLError, re.ConnectionError, re.ChunkedEncodingError) as e:\n",
    "        print(\"Connection Error. Continuing.\")\n",
    "        \n",
    "print(\"--- %s seconds ---\" % (time.time() - start_time))"
   ]
  },
  {
   "cell_type": "code",
   "execution_count": null,
   "metadata": {},
   "outputs": [],
   "source": []
  },
  {
   "cell_type": "code",
   "execution_count": null,
   "metadata": {
    "scrolled": true
   },
   "outputs": [],
   "source": [
    "import requests.exceptions as re\n",
    "import warnings\n",
    "warnings.simplefilter(\"ignore\", (UserWarning, FutureWarning, RuntimeWarning))\n",
    "\n",
    "start_time = time.time()\n",
    "\n",
    "while True:\n",
    "    try:\n",
    "        dd.goes_download_wrapper_satpy(smoke_plume_data=temp_plumes_df,\n",
    "                                       temp_data_path=TEMP_NETCDF_FILE_PATH,\n",
    "                                 save_data_path=NETCDF_FILE_PATH, \n",
    "                                 extra_desc='', \n",
    "                                 bounds=None, \n",
    "                                 bands=[1,2,3,7,11])\n",
    "        break\n",
    "    except (re.SSLError, re.ConnectionError, re.ChunkedEncodingError) as e:\n",
    "        print(\"Connection Error. Continuing.\")\n",
    "        \n",
    "print(\"--- %s seconds ---\" % (time.time() - start_time))"
   ]
  },
  {
   "cell_type": "code",
   "execution_count": null,
   "metadata": {},
   "outputs": [],
   "source": []
  },
  {
   "cell_type": "code",
   "execution_count": 30,
   "metadata": {},
   "outputs": [],
   "source": [
    "## remove files not at start or middle of hour and before 12 or after 23:59\n",
    "cur_files = [file for file in os.listdir('../data/img/') if file[0] != '.']"
   ]
  },
  {
   "cell_type": "code",
   "execution_count": 22,
   "metadata": {},
   "outputs": [],
   "source": [
    "blah = [cur_files[i].split('_s')[1].split('_e')[0][-2:] in ['02','01','31','32'] for i in range(len(cur_files))]"
   ]
  },
  {
   "cell_type": "code",
   "execution_count": 29,
   "metadata": {},
   "outputs": [],
   "source": [
    "for file in cur_files:\n",
    "    if file.split('_s')[1].split('_e')[0][-2:] not in ['02','01','31','32']:\n",
    "        os.remove('../data/img/' + file)"
   ]
  },
  {
   "cell_type": "code",
   "execution_count": 27,
   "metadata": {},
   "outputs": [
    {
     "data": {
      "text/plain": [
       "False"
      ]
     },
     "execution_count": 27,
     "metadata": {},
     "output_type": "execute_result"
    }
   ],
   "source": [
    "cur_files[1].split('_s')[1].split('_e')[0][-2:] not in ['02','01','31','32']"
   ]
  },
  {
   "cell_type": "code",
   "execution_count": 32,
   "metadata": {},
   "outputs": [
    {
     "data": {
      "text/plain": [
       "939"
      ]
     },
     "execution_count": 32,
     "metadata": {},
     "output_type": "execute_result"
    }
   ],
   "source": [
    "len(cur_files)"
   ]
  },
  {
   "cell_type": "code",
   "execution_count": null,
   "metadata": {},
   "outputs": [],
   "source": []
  }
 ],
 "metadata": {
  "kernelspec": {
   "display_name": "Python 3",
   "language": "python",
   "name": "python3"
  },
  "language_info": {
   "codemirror_mode": {
    "name": "ipython",
    "version": 3
   },
   "file_extension": ".py",
   "mimetype": "text/x-python",
   "name": "python",
   "nbconvert_exporter": "python",
   "pygments_lexer": "ipython3",
   "version": "3.8.8"
  }
 },
 "nbformat": 4,
 "nbformat_minor": 4
}
